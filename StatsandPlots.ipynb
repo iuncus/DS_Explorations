{
 "cells": [
  {
   "cell_type": "code",
   "execution_count": null,
   "metadata": {},
   "outputs": [],
   "source": [
    "import pandas as pd\n",
    "import numpy as np\n",
    "import matplotlib.pyplot as plt\n",
    "import scipy.stats as st"
   ]
  },
  {
   "cell_type": "code",
   "execution_count": null,
   "metadata": {},
   "outputs": [],
   "source": [
    "df = pd.read_csv(\"data/jobs_in_data.csv\")\n",
    "\n",
    "canada = df[df[\"employee_residence\"] == \"Canada\"]\n",
    "us = df[df[\"employee_residence\"] == \"United States\"]\n",
    "uk = df[df[\"employee_residence\"] == \"United Kingdom\"]\n",
    "# df = df.astype({'salary_in_usd':'int'})\n",
    "# df.dropna\n",
    "df"
   ]
  },
  {
   "cell_type": "code",
   "execution_count": null,
   "metadata": {},
   "outputs": [],
   "source": [
    "# corr = df.corr(numeric_only=False)\n",
    "# corr"
   ]
  },
  {
   "cell_type": "code",
   "execution_count": null,
   "metadata": {},
   "outputs": [],
   "source": [
    "def order(salary_group):\n",
    "    # salary_group = df.groupby([\"experience_level\", \"work_setting\"])\n",
    "    # Get the groups manually by experience level\n",
    "    junior_group = salary_group.get_group('Entry-level')\n",
    "    mid_level_group = salary_group.get_group('Mid-Level')\n",
    "    senior_group = salary_group.get_group('Senior')\n",
    "    exec_group = salary_group.get_group('Executive')\n",
    "\n",
    "    # Concatenate the groups in the desired order\n",
    "    ordered_group = pd.concat([junior_group, mid_level_group, senior_group, exec_group])\n",
    "    return ordered_group"
   ]
  },
  {
   "cell_type": "code",
   "execution_count": null,
   "metadata": {},
   "outputs": [],
   "source": [
    "# exp = df[[\"experience_level\", \"work_setting\"]].value_counts()\n",
    "# exp = df[[\"experience_level\", \"work_setting\"]][\"salary_in_usd\"].mean()\n",
    "# print(exp)\n",
    "# can't directly perform something like mean() on the this dataframe, have to use groupby()\n",
    "\n",
    "pd.set_option('display.max_columns', None)\n",
    "# print(job_type)\n",
    "\n",
    "# tried to order the items by one of the categories, works for groupby object but not a dataframe?\n",
    "\n",
    "# order_mapping = {\"Entry-level\": 0, \"Mid-level\": 1, \"Senior\": 2, \"Executive\": 3}\n",
    "# salary_group = df.sort_values(\"experience_level\", key=lambda x: x.map(order_mapping))\n",
    "order_mapping = [\"Entry-level\", \"Mid-level\", \"Senior\", \"Executive\"]\n",
    "# df = df.reindex(order_mapping, level = 7)\n",
    "# df['experience_level'] = df['experience_level'].map(order_mapping)\n",
    "salary_group = df.groupby([\"experience_level\", \"work_setting\"]) #.apply(lambda x: x.sort_values(by='experience_level'))\n",
    "# salary_group = salary_group.swaplevel().sort_index()\n",
    "# salary_group = salary_group.apply(lambda x: x.reindex(order_mapping))\n",
    "# salary_group = salary_group.reset_index(level = 0)\n",
    "# salary_group = salary_group.reindex(order_mapping, level=0)\n",
    "# salary_group = order(salary_group)\n",
    "print(salary_group[\"salary_in_usd\"])\n",
    "print(salary_group[\"salary_in_usd\"].median())\n",
    "\n",
    "unique_combo =  list(salary_group.groups.keys())\n",
    "# setting = df[\"work_setting\"].unique()\n",
    "# print(setting)\n",
    "# print(len(unique_combo))\n",
    "\n",
    "# creating a new column that combines the 2 categories, don't really like this approach\n",
    "\n",
    "# df[\"combined\"] = df['experience_level'] + ', ' + df['work_setting']\n",
    "# print(df[\"combined\"])"
   ]
  },
  {
   "cell_type": "markdown",
   "metadata": {},
   "source": [
    "#### Plotting them as is to see some distribution"
   ]
  },
  {
   "cell_type": "code",
   "execution_count": null,
   "metadata": {},
   "outputs": [],
   "source": [
    "\n",
    "fig, ax = plt.subplots(figsize=(10,5)) \n",
    "number_of_bins = 50\n",
    "salary = df[\"salary_in_usd\"]\n",
    "h = ax.hist(salary, bins=number_of_bins, edgecolor = \"red\")\n",
    "ax.set_ylabel(\"Number of jobs\")\n",
    "ax.set_xlabel(\"Salary(USD)\")\n",
    "# ax.set_yscale(\"log\")"
   ]
  },
  {
   "cell_type": "code",
   "execution_count": null,
   "metadata": {},
   "outputs": [],
   "source": [
    "df.boxplot(column=\"salary_in_usd\", by=[\"experience_level\", \"work_setting\"], figsize=(12,6), grid=False, vert = False)\n",
    "plt.suptitle(\"\")\n",
    "plt.title(\"Salary Box Plot\")\n",
    "plt.tight_layout()\n",
    "# plt.show()"
   ]
  },
  {
   "cell_type": "markdown",
   "metadata": {},
   "source": [
    "#### Assign colours based on unique combinations"
   ]
  },
  {
   "cell_type": "code",
   "execution_count": null,
   "metadata": {},
   "outputs": [],
   "source": [
    "from matplotlib import colormaps\n",
    "colors = colormaps['viridis']\n",
    "\n",
    "color_list = [colors(i) for i in np.linspace(0,1,len(unique_combo))]\n",
    "\n",
    "color_dict = {str(unique_combo[i]):color_list[i] for i in range(len(unique_combo))}\n",
    "print(color_dict)\n",
    "\n",
    "# order_mapping = {\"Entry-level\": 1, \"Mid-level\": 2, \"Senior\": 3, \"Executive\": 4}\n",
    "# # sorted_combo = sorted(unique_combo, key=lambda x: order_mapping[x[0]])\n",
    "# # key_function = lambda x: (order_mapping[x[0]], order_mapping[x[1]])\n",
    "# # sorted_salary = salary_group.sort_values(by=\"experience_level\", key=lambda x: x.map(order_mapping))\n",
    "# def custom_sort_key(index):\n",
    "#     return tuple(order_mapping[level] for level in index)\n",
    "\n",
    "# sorted_grouped = salary_group.apply(lambda x: x.sort_values(by=[\"experience_level\"], key=custom_sort_key))\n",
    "\n",
    "# print(sorted_grouped)"
   ]
  },
  {
   "cell_type": "code",
   "execution_count": null,
   "metadata": {},
   "outputs": [],
   "source": [
    "rows = 3\n",
    "cols = 4\n",
    "fig, ax = plt.subplots(rows, cols, figsize=(20,16))\n",
    "\n",
    "for num, i in enumerate(unique_combo):\n",
    "    temp_salary = df[(df[\"experience_level\"]== i[0]) & (df[\"work_setting\"] == i[1])][\"salary_in_usd\"].values\n",
    "    col = num%cols\n",
    "    row = int(np.floor(num/cols))\n",
    "    axis = ax[row,col]\n",
    "    axis.plot(temp_salary,np.arange(len(temp_salary)), \"o\", color=color_list[num], ms = 2.5)\n",
    "    axis.set_title(i)\n",
    "    axis.tick_params(axis='x', labelrotation=25)\n",
    "    # axis.set_xticklabels(axis.get_xticks(), ha = \"right\")\n",
    "    axis.set_xlim((10000,500000))\n",
    "    # not setting a boundary on y axis because there are too many more entries for senior positions\n",
    "    # axis.set_ylim((0, 4500))"
   ]
  },
  {
   "cell_type": "markdown",
   "metadata": {},
   "source": [
    "#### Central Tendency\n",
    "##### Mean\n"
   ]
  },
  {
   "cell_type": "code",
   "execution_count": null,
   "metadata": {},
   "outputs": [],
   "source": [
    "fig1, ax1 = plt.subplots(figsize=(10,6)) \n",
    "combo_label = [f\"{i[0], i[1]}\" for i in unique_combo]\n",
    "mean_sal = salary_group[\"salary_in_usd\"].mean()\n",
    "ax1.barh(combo_label, mean_sal ,0.5,color=color_list)\n",
    "ax1.set_xlabel(\"Salary(USD)\")\n",
    "\n",
    "# inverted so they are arranged from top to bottom\n",
    "ax1.invert_yaxis()\n",
    "ax1.set_title(\"Salary mean\")\n",
    "# ax1.tick_params(axis='x', labelrotation=90)"
   ]
  },
  {
   "cell_type": "markdown",
   "metadata": {},
   "source": [
    "##### Range"
   ]
  },
  {
   "cell_type": "code",
   "execution_count": null,
   "metadata": {},
   "outputs": [],
   "source": [
    "def range(x):\n",
    "    return x.max() - x.min()\n",
    "\n",
    "# salary_range = salary_group.apply(range).sort_values()\n",
    "\n",
    "# reset index here is necessary because of the new column has no name\n",
    "# really not sure why reset_index() assigns a 0 to the salary despite the range() method calls for the salary column, but hey it works\n",
    "# even weirder is that its not a string \"0\", but literally the number 0?\n",
    "# apparently this can be fixed by calling salary_group[\"salary_in_usd\"].apply, rather than salary_group.apply()\n",
    "salary_range = salary_group[\"salary_in_usd\"].apply(range).reset_index()#.sort_values(by=\"salary_in_usd\")\n",
    "# salary_test = salary_group.apply(range)\n",
    "# print(salary_test)\n",
    "# combined_group = df.groupby([\"combined\"])\n",
    "# salary_range = combined_group.apply(range)\n",
    "# print(salary_range)"
   ]
  },
  {
   "cell_type": "code",
   "execution_count": null,
   "metadata": {},
   "outputs": [],
   "source": [
    "# print(salary_group[\"salary_in_usd\"])\n",
    "\n",
    "fig, ax = plt.subplots(figsize=(12,5))\n",
    "ax.set_ylabel(\"salary range\")\n",
    "\n",
    "# using combo_label directly as x axis means I can't change the horizontal alightment\n",
    "\n",
    "ax.bar(salary_range.index, salary_range[\"salary_in_usd\"], 0.5, color =color_list)\n",
    "# ax.tick_params(axis='x', labelrotation=35)\n",
    "ax.set_xticks(salary_range.index)\n",
    "ax.set_xticklabels(unique_combo, rotation=45, ha='right')"
   ]
  },
  {
   "cell_type": "code",
   "execution_count": null,
   "metadata": {},
   "outputs": [],
   "source": [
    "test = df[\"salary_in_usd\"].dtype\n",
    "print(test)"
   ]
  },
  {
   "cell_type": "markdown",
   "metadata": {},
   "source": [
    "#### Standard Deviation"
   ]
  },
  {
   "cell_type": "code",
   "execution_count": null,
   "metadata": {},
   "outputs": [],
   "source": [
    "std_salary = salary_group[\"salary_in_usd\"].std()\n",
    "print(std_salary)\n",
    "std_salary = std_salary.reset_index()\n",
    "print(std_salary)\n",
    "\n",
    "fig, ax = plt.subplots(figsize=(12,5))\n",
    "ax.set_ylabel(\"Salary(USD)\")\n",
    "ax.set_title(\"Standard deviation of salary\")\n",
    "\n",
    "\n",
    "ax.bar(std_salary.index, std_salary[\"salary_in_usd\"], 0.5, color = color_list)\n",
    "ax.set_xticks(salary_range.index)\n",
    "ax.set_xticklabels(unique_combo, rotation=45, ha='right')"
   ]
  },
  {
   "cell_type": "markdown",
   "metadata": {},
   "source": [
    "#### Z-Score"
   ]
  },
  {
   "cell_type": "code",
   "execution_count": null,
   "metadata": {},
   "outputs": [],
   "source": [
    "def calc_z(x):\n",
    "    return (x - x.mean()) / x.std()"
   ]
  },
  {
   "cell_type": "code",
   "execution_count": null,
   "metadata": {},
   "outputs": [],
   "source": [
    "\n",
    "z_score = salary_group[\"salary_in_usd\"].apply(calc_z).reset_index()\n",
    "# z_score = z_score.reset_index()\n",
    "print(z_score)\n",
    "\n",
    "fig, ax = plt.subplots(figsize = (12,5))\n",
    "ax.plot(z_score[\"salary_in_usd\"], \"x\")\n",
    "ax.set_title(\"Z-score\")\n"
   ]
  },
  {
   "cell_type": "code",
   "execution_count": null,
   "metadata": {},
   "outputs": [],
   "source": [
    "# grouped = df.groupby(\"label\")\n",
    "sem_salary = salary_group[\"salary_in_usd\"].sem().reset_index()\n",
    "# print(sem_salary)\n",
    "\n",
    "fig, ax = plt.subplots(figsize=(12,5))\n",
    "ax.set_ylabel(\"Salary(USD)\")\n",
    "ax.set_title(\"Salary standard error of mean\")\n",
    "print(sem_salary.values)\n",
    "ax.bar(sem_salary.index, sem_salary[\"salary_in_usd\"], 0.5, color = color_list)\n",
    "ax.set_xticks(salary_range.index)\n",
    "ax.set_xticklabels(unique_combo, rotation=45, ha='right')"
   ]
  },
  {
   "cell_type": "markdown",
   "metadata": {},
   "source": []
  }
 ],
 "metadata": {
  "kernelspec": {
   "display_name": "nlp",
   "language": "python",
   "name": "python3"
  },
  "language_info": {
   "codemirror_mode": {
    "name": "ipython",
    "version": 3
   },
   "file_extension": ".py",
   "mimetype": "text/x-python",
   "name": "python",
   "nbconvert_exporter": "python",
   "pygments_lexer": "ipython3",
   "version": "3.9.18"
  }
 },
 "nbformat": 4,
 "nbformat_minor": 2
}
