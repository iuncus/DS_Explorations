{
 "cells": [
  {
   "cell_type": "code",
   "execution_count": null,
   "metadata": {},
   "outputs": [],
   "source": [
    "import pandas as pd\n",
    "import matplotlib.pyplot as plt\n",
    "from matplotlib import colormaps\n",
    "import numpy as np\n",
    "from scipy import stats\n",
    "from sklearn.metrics import r2_score\n"
   ]
  },
  {
   "cell_type": "code",
   "execution_count": null,
   "metadata": {},
   "outputs": [],
   "source": [
    "pd.set_option('display.max_columns', None)\n",
    "# pd.set_option('display.max_rows', None)\n",
    "\n",
    "df = pd.read_csv(\"data/filmsdata.csv\")\n",
    "df[[\"saturation\"]] = df[[\"saturation\"]].fillna(0)\n",
    "df1 = df\n",
    "df2 = df\n",
    "df\n",
    "# df[\"saturation\"].describe()\n",
    "# years = df.groupby(\"year\")\n",
    "# print(years[\"imdb_rating\"])"
   ]
  },
  {
   "cell_type": "markdown",
   "metadata": {},
   "source": [
    "#### Aspect Ratio Over Time"
   ]
  },
  {
   "cell_type": "code",
   "execution_count": null,
   "metadata": {},
   "outputs": [],
   "source": [
    "df1.dropna(subset = [\"aspect_ratio\"], inplace=True)\n",
    "x = df1[\"year\"]\n",
    "# print(df[\"aspect_ratio\"])\n",
    "y = df1[\"aspect_ratio\"]\n",
    "\n",
    "num_degrees = 2\n",
    "\n",
    "#Fit model\n",
    "poly_model = np.polyfit(x, y, num_degrees)\n",
    "poly_model = np.poly1d(poly_model)\n",
    "\n",
    "# slope, intercept, r, p, std_err = stats.linregress(x, y)\n",
    "# slope = np.float32(slope)\n",
    "# model_y = [slope * i + intercept for i in x]\n",
    "\n",
    "aspect = y.unique()\n",
    "print(aspect)\n",
    "fig, ax = plt.subplots(figsize = (12,8))\n",
    "ax.scatter(x, y, c = \"black\", s = 100, alpha = 0.2)\n",
    "ax.set_title(\"Aspect Ratio over Time\")\n",
    "# ax.plot(x, model_y, color='red')\n",
    "model_x = x\n",
    "model_y = poly_model(model_x)\n",
    "ax.plot(model_x,model_y,\"rx\", markersize = 15)\n",
    "ax.set_yticks(aspect)"
   ]
  },
  {
   "cell_type": "markdown",
   "metadata": {},
   "source": [
    "#### Rotten Tomato Dataset\n",
    "\n",
    "some data cleaning was required "
   ]
  },
  {
   "cell_type": "code",
   "execution_count": null,
   "metadata": {},
   "outputs": [],
   "source": [
    "tomato = pd.read_csv(\"data/rotten_tomatoes_top_movies.csv\")\n",
    "unique_asp = tomato[\"aspect_ratio\"].unique()\n",
    "print(unique_asp)\n",
    "tomato = tomato[tomato[\"aspect_ratio\"].notna()]\n",
    "import re\n",
    "for index, row in tomato.iterrows():\n",
    "    aspect_ratio = row[\"aspect_ratio\"]\n",
    "    if aspect_ratio == \"1.43:1\":\n",
    "        tomato.at[index, \"aspect_ratio\"] = float(1.43)\n",
    "    elif aspect_ratio == \"1.66:1\":\n",
    "        tomato.at[index, \"aspect_ratio\"] = float(1.66)\n",
    "    else:\n",
    "        temp_asp = re.search(r\"(?<=\\()(\\d+\\.\\d{1,2})?(?=:)\", aspect_ratio)\n",
    "        if temp_asp is not None:\n",
    "            aspect_ratio_value = float(temp_asp.group())\n",
    "            tomato.at[index, \"aspect_ratio\"] = aspect_ratio_value\n",
    "        else:\n",
    "            tomato.drop(index, inplace=True)\n",
    "# tomato = tomato[tomato[\"aspect_ratio\"].notna()]\n",
    "\n",
    "unique_asp = tomato[\"aspect_ratio\"].unique()\n",
    "print(unique_asp)"
   ]
  },
  {
   "cell_type": "code",
   "execution_count": null,
   "metadata": {},
   "outputs": [],
   "source": [
    "test = tomato[tomato[\"aspect_ratio\"] == 1.43]\n",
    "test"
   ]
  },
  {
   "cell_type": "markdown",
   "metadata": {},
   "source": [
    "Correlation matrix, people and critics dont agree that much it seems"
   ]
  },
  {
   "cell_type": "code",
   "execution_count": null,
   "metadata": {},
   "outputs": [],
   "source": [
    "tomato = pd.read_csv(\"data/rotten_tomatoes_top_movies.csv\")\n",
    "corr2 = tomato.corr(numeric_only=True)\n",
    "corr2.style.background_gradient(cmap='RdYlGn')"
   ]
  },
  {
   "cell_type": "code",
   "execution_count": null,
   "metadata": {},
   "outputs": [],
   "source": [
    "tomato_x = tomato[\"year\"]\n",
    "tomato['aspect_ratio'] = pd.to_numeric(tomato['aspect_ratio'], errors='coerce')\n",
    "tomato_y = tomato[\"aspect_ratio\"]\n",
    "print(tomato_y.dtype)\n",
    "fig, ax = plt.subplots(figsize = (12,6))\n",
    "ax.scatter(tomato_x, tomato_y, c = \"black\", s = 100, alpha = 0.2)\n",
    "\\\n",
    "ax.set_title(\"Rotten Tomato Dataset Aspect Ratio over Time\")\n",
    "# ax.plot(x, model_y, color='red')\n",
    "# ax.tick_params(axis='y', labelrotation=25)\n",
    "# y_ticks = tomato[\"aspect_ratio\"].unique()\n",
    "y_ticks = [1.33, 1.37, 1.43, 1.66, 1.85, 2.35]\n",
    "\n",
    "ax.set_yticks(y_ticks)"
   ]
  },
  {
   "cell_type": "markdown",
   "metadata": {},
   "source": [
    "#### Average Shot Scale"
   ]
  },
  {
   "cell_type": "code",
   "execution_count": null,
   "metadata": {},
   "outputs": [],
   "source": [
    "df.dropna(subset = [\"ave_scale\"], inplace=True)\n",
    "x = df[\"year\"]\n",
    "# print(df[\"aspect_ratio\"])\n",
    "y = df[\"ave_scale\"]\n",
    "# print(x)\n",
    "# num_degrees = 1\n",
    "\n",
    "# #Fit model\n",
    "# poly_model = np.polyfit(x, y, num_degrees)\n",
    "# poly_model = np.poly1d(poly_model)\n",
    "\n",
    "slope, intercept, r, p, std_err = stats.linregress(x, y)\n",
    "slope = np.float32(slope)\n",
    "model_y = [slope * i + intercept for i in x]\n",
    "\n",
    "fig, ax = plt.subplots(figsize = (8,5))\n",
    "ax.scatter(x, y, c = \"black\", s = 20, alpha = 1)\n",
    "ax.set_title(\"Average Shot Scale over Time\")\n",
    "ax.plot(x, model_y, color='red')\n",
    "ax.set_ylim(2, 5)\n",
    "y_ticks = range(2, 6)\n",
    "ax.set_yticks(y_ticks)\n",
    "scale_labels = {2: \"2: Long Shot\", 3: \"3: Medium Long Shot\", 4: \"4: Medium Shot\", 5: \"5: Medium Close Up\"}\n",
    "ax.set_yticklabels([scale_labels.get(tick, '') for tick in y_ticks])\n",
    "# model_x = x\n",
    "# model_y = poly_model(model_x)\n",
    "# ax.plot(model_x,model_y,\"rx\", markersize = 15)\n",
    "\n",
    "print(r)\n"
   ]
  },
  {
   "cell_type": "markdown",
   "metadata": {},
   "source": [
    "#### Averge Shot Length"
   ]
  },
  {
   "cell_type": "code",
   "execution_count": null,
   "metadata": {},
   "outputs": [],
   "source": [
    "df2.dropna(subset = [\"ASL\"], inplace=True)\n",
    "x = df2[\"year\"]\n",
    "# print(df[\"aspect_ratio\"])\n",
    "y = df2[\"ASL\"]\n",
    "fig, ax = plt.subplots(figsize = (10,6))\n",
    "ax.scatter(x, y, c = \"lightseagreen\", s = 50, alpha = 0.5 )\n",
    "ax.set_title(\"Average Shot Length over Time\")\n",
    "\n",
    "num_degrees = 1\n",
    "\n",
    "poly_model = np.polyfit(x, y, num_degrees)\n",
    "poly_model = np.poly1d(poly_model)\n",
    "model_x = x\n",
    "model_y = poly_model(model_x)\n",
    "ax.plot(model_x,model_y,\"rx\", markersize = 10, color = \"darkred\")\n",
    "ax.set_yscale(\"log\", base = 2)\n",
    "ax.set_ylabel(\"Shot Length in seconds\")\n",
    "ax.set_ylim(1, 33)\n",
    "ax.set_yticklabels([0.5, 1, 2, 4, 8, 16, 32])\n",
    "\n",
    "print(r2_score(y, poly_model(model_x)))"
   ]
  },
  {
   "cell_type": "markdown",
   "metadata": {},
   "source": [
    "#### Correlation matrix"
   ]
  },
  {
   "cell_type": "code",
   "execution_count": null,
   "metadata": {},
   "outputs": [],
   "source": [
    "\n",
    "corr = df.corr(numeric_only=True)\n",
    "corr.style.background_gradient(cmap='RdYlGn')"
   ]
  },
  {
   "cell_type": "markdown",
   "metadata": {},
   "source": [
    "#### IMDB Score Predition "
   ]
  },
  {
   "cell_type": "code",
   "execution_count": null,
   "metadata": {},
   "outputs": [],
   "source": [
    "rating =  df[df[\"imdb_rating\"].notna()]\n",
    "# rating = df[df[\"genre\"] == \"comedy\"]\n",
    "# rating\n",
    "fig, ax = plt.subplots(figsize = (12, 6))\n",
    "year_list = pd.unique(rating[\"year\"])\n",
    "# print(year_list)\n",
    "genre_list = pd.unique(rating[\"genre\"])\n",
    "colors = colormaps['viridis']\n",
    "color_list = [colors(i) for i in np.linspace(0,1,len(genre_list))]\n",
    "color_dict = {str(genre_list[i]):color_list[i] for i in range(len(genre_list))}\n",
    "\n",
    "# ax.scatter(df[\"year\"], df[\"imdb_rating\"], s = 7)\n",
    "for genre, group in rating.groupby('genre'):\n",
    "    ax.scatter(group['year'], group['imdb_rating'], s=100, alpha = 0.8, label=genre, color=color_dict[genre])\n",
    "\n",
    "ax.set_title(\"IMDB score over time\")\n",
    "ax.set_xticks(year_list)\n",
    "ax.set_xticklabels(year_list,rotation=25)\n",
    "ax.legend()\n",
    "\n",
    "num_degrees = 4\n",
    "poly_model = np.polyfit(rating[\"year\"], rating[\"imdb_rating\"], num_degrees)\n",
    "poly_model = np.poly1d(poly_model)\n",
    "model_x = x\n",
    "model_y = poly_model(model_x)\n",
    "ax.plot(model_x,model_y, \"x\", markersize = 10, color = \"red\")\n",
    "\n",
    "print(r2_score(y, poly_model(model_x)))\n"
   ]
  },
  {
   "cell_type": "markdown",
   "metadata": {},
   "source": [
    "Label Encoder for genres"
   ]
  },
  {
   "cell_type": "code",
   "execution_count": null,
   "metadata": {},
   "outputs": [],
   "source": [
    "from sklearn.preprocessing import LabelEncoder\n",
    "df = pd.read_csv(\"data/filmsdata.csv\")\n",
    "df = df[df[\"year\"].notna()]\n",
    "df = df[df[\"imdb_rating\"].notna()]\n",
    "\n",
    "encoded_y = LabelEncoder()\n",
    "df[\"genre_encoded\"] = encoded_y.fit_transform(df[\"genre\"])\n",
    "# print(encoded_y)\n",
    "# print(len(encoded_y), len(df[\"genre\"]))\n",
    "mapping = dict(zip(encoded_y.classes_, encoded_y.transform(encoded_y.classes_)))\n",
    "print(mapping)\n",
    "df[\"genre_encoded\"]\n"
   ]
  },
  {
   "cell_type": "markdown",
   "metadata": {},
   "source": [
    "linear regression model"
   ]
  },
  {
   "cell_type": "code",
   "execution_count": null,
   "metadata": {},
   "outputs": [],
   "source": [
    "from sklearn import linear_model \n",
    "# from sklearn.metrics import mean_squared_error, r2_score\n",
    "\n",
    "regr = linear_model.LinearRegression()\n",
    "regr_x = df[[\"year\", \"genre_encoded\"]]\n",
    "regr_y = df[\"imdb_rating\"]\n",
    "regr.fit(regr_x, regr_y) \n",
    "print(regr.coef_, regr.intercept_,regr.score(regr_x, regr_y))\n",
    "feature_names = regr_x.columns\n",
    "# print(feature_names)\n",
    "predict = regr.predict([[3000, 3]])\n",
    "print(predict)"
   ]
  },
  {
   "cell_type": "markdown",
   "metadata": {},
   "source": [
    "loop through 50 years and all genres and put predictions into a table"
   ]
  },
  {
   "cell_type": "code",
   "execution_count": null,
   "metadata": {},
   "outputs": [],
   "source": [
    "all_years = range(2025, 2080, 5)\n",
    "all_genres = df['genre_encoded'].unique()\n",
    "\n",
    "predictions_df = pd.DataFrame(index=all_years, columns=all_genres)\n",
    "\n",
    "for year in all_years:\n",
    "    for genre in all_genres:\n",
    "\n",
    "        input_features = [[year, genre]]\n",
    "        prediction = regr.predict(input_features)\n",
    "        \n",
    "        predictions_df.at[year, genre] = prediction\n",
    "\n",
    "swapped_map = {v: k for k, v in mapping.items()}\n",
    "predictions_df.rename(columns=swapped_map, inplace=True)\n",
    "predictions_df"
   ]
  }
 ],
 "metadata": {
  "kernelspec": {
   "display_name": "nlp",
   "language": "python",
   "name": "python3"
  },
  "language_info": {
   "codemirror_mode": {
    "name": "ipython",
    "version": 3
   },
   "file_extension": ".py",
   "mimetype": "text/x-python",
   "name": "python",
   "nbconvert_exporter": "python",
   "pygments_lexer": "ipython3",
   "version": "3.9.18"
  }
 },
 "nbformat": 4,
 "nbformat_minor": 2
}
