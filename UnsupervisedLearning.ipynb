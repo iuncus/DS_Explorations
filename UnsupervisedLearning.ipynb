{
 "cells": [
  {
   "cell_type": "code",
   "execution_count": null,
   "metadata": {},
   "outputs": [],
   "source": [
    "import cv2\n",
    "import random, os, sys, shutil\n",
    "import numpy as np\n",
    "from sklearn.cluster import KMeans\n",
    "from skimage import io\n",
    "from skimage import color\n",
    "from PIL import Image, ImageOps\n",
    "import umap.umap_ as umap\n",
    "import matplotlib.pyplot as plt\n",
    "from sklearn.pipeline import Pipeline\n",
    "from sklearn.preprocessing import StandardScaler\n",
    "from urllib.request import urlopen\n",
    "from datetime import datetime\n",
    "from tensorflow.keras.preprocessing.image import load_img, img_to_array, array_to_img"
   ]
  },
  {
   "cell_type": "code",
   "execution_count": null,
   "metadata": {},
   "outputs": [],
   "source": [
    "!pip install -U scikit-learn"
   ]
  },
  {
   "cell_type": "markdown",
   "metadata": {},
   "source": [
    "#### Loading Data"
   ]
  },
  {
   "cell_type": "code",
   "execution_count": null,
   "metadata": {},
   "outputs": [],
   "source": [
    "#Path to folder\n",
    "path_to_images = \"../AI-4-Media-23-24/data/my-data/my-classification-dataset/class-\"\n",
    "#image extension\n",
    "file_type = \".jpg\"\n",
    "#Pick image size\n",
    "img_height = 224\n",
    "img_width = 224\n",
    "#Is it rgb or black and white?\n",
    "channels = 3"
   ]
  },
  {
   "cell_type": "code",
   "execution_count": null,
   "metadata": {},
   "outputs": [],
   "source": [
    "paths = []\n",
    "folders = 3\n",
    "for i in range(1, folders+1):\n",
    "    temp_path = path_to_images + str(i)\n",
    "    print(temp_path)\n",
    "    for root, dirs, files in os.walk(temp_path, topdown=False):\n",
    "        for index, name in enumerate(files):\n",
    "            if index >= 200:\n",
    "                continue\n",
    "            if file_type in name.lower():\n",
    "                paths.append(str(os.path.join(root, name)))\n",
    "\n",
    "#Load in images\n",
    "# dataset = [np.array(img_to_array(load_img(i,target_size=((img_height,img_width)))))/255.0 for i in paths]\n",
    "# dataset = np.array(dataset).astype(\"float32\")\n",
    "# dataset.shape\n",
    "print(len(paths))\n",
    "            "
   ]
  },
  {
   "cell_type": "markdown",
   "metadata": {},
   "source": [
    "#### Oringinally Colour Palette Code\n",
    "modified to take the average and ``KMeans(n_cluster = 1)``"
   ]
  },
  {
   "cell_type": "code",
   "execution_count": null,
   "metadata": {},
   "outputs": [],
   "source": [
    "def resize_image(image):\n",
    "  height, width = image.shape[:2]\n",
    "  max_height = 200\n",
    "  max_width = 200\n",
    "\n",
    "  # only shrink if img is bigger than required\n",
    "  if max_height < height or max_width < width:\n",
    "      # get scaling factor\n",
    "      scaling_factor = max_height / float(height)\n",
    "      if max_width/float(width) < scaling_factor:\n",
    "          scaling_factor = max_width / float(width)\n",
    "      # resize image\n",
    "      resized_image = cv2.resize(image, None, fx=scaling_factor, fy=scaling_factor, interpolation=cv2.INTER_AREA)\n",
    "\n",
    "  return resized_image\n",
    "\n",
    "def get_colour_palettes(image_data):\n",
    "  kmeans_rgb = []\n",
    "  ind_average_rgb = []\n",
    "\n",
    "  for i in image_data:\n",
    "    image = io.imread(i)\n",
    "    if len(image.shape) != 3:\n",
    "      continue\n",
    "    # print(image.shape)\n",
    "    image = resize_image(image)\n",
    "    avg = np.array(np.mean(image, axis=(0, 1)))\n",
    "    ind_average_rgb.append(avg)\n",
    "    # ind_average_rgb = np.append(ind_average_rgb, avg)\n",
    "    image = image.reshape((image.shape[1]*image.shape[0],3))\n",
    "    # print(image)\n",
    "    kmeans = KMeans(n_clusters=1).fit(image)\n",
    "    labels = kmeans.labels_\n",
    "    labels=list(labels)\n",
    "    centroid = kmeans.cluster_centers_\n",
    "\n",
    "    percent = []\n",
    "    for i in range(len(centroid)):\n",
    "      j = labels.count(i)\n",
    "      j = j/(len(labels))\n",
    "      percent.append(j)\n",
    "\n",
    "    # rgb = np.array(centroid/255)\n",
    "    rgb = centroid\n",
    "\n",
    "    percent_idx = np.array(percent).argsort()\n",
    "    rgb_sorted = rgb[percent_idx[::-1]]\n",
    "\n",
    "    kmeans_rgb.append(rgb_sorted)\n",
    "\n",
    "    red, green, blue = zip(*image)\n",
    "    height, width = image.shape\n",
    "\n",
    "    pixel_count = height * width\n",
    "    # ind_average_rgb.append((sum(red) / pixel_count, sum(green) / pixel_count, sum(blue) / pixel_count))\n",
    "    \n",
    "\n",
    "  kmeans_lab = color.rgb2lab(kmeans_rgb)\n",
    "  k_lab = [i.flatten() for i in kmeans_rgb]\n",
    "  # average_lab = color.rgb2lab(ind_average_rgb)\n",
    "  # a_lab = [i.flatten() for i in ind_average_rgb]\n",
    "\n",
    "  # print(result)\n",
    "\n",
    "  return k_lab, ind_average_rgb"
   ]
  },
  {
   "cell_type": "markdown",
   "metadata": {},
   "source": [
    "#### Checking the Difference Between Average and n_cluster=1 Result"
   ]
  },
  {
   "cell_type": "code",
   "execution_count": null,
   "metadata": {},
   "outputs": [],
   "source": [
    "kmeans_lab, average_rgb = get_colour_palettes(paths)\n",
    "print(kmeans_lab)\n",
    "print(average_rgb)"
   ]
  },
  {
   "cell_type": "code",
   "execution_count": null,
   "metadata": {},
   "outputs": [],
   "source": [
    "x = np.array(kmeans_lab)\n",
    "y = np.array(average_rgb)\n",
    "# if np.array_equal(x, y):\n",
    "#     print(\"Hell yeah\")\n",
    "# else:\n",
    "#     print(\"nope\")\n",
    "differences = np.array(x) - np.array(y)\n",
    "fig, ax = plt.subplots(figsize=(8, 6))\n",
    "ax.scatter(range(len(differences) * 3),differences, s = 5)\n",
    "# plt.figure(figsize=(8, 6))\n",
    "# plt.plot(differences, 'bo-', label='Differences')\n",
    "\n",
    "differences = np.std(differences)\n",
    "print(differences)\n",
    "\n"
   ]
  },
  {
   "cell_type": "code",
   "execution_count": null,
   "metadata": {},
   "outputs": [],
   "source": [
    "# print(np.shape(np.asarray(colour_palettes)))"
   ]
  },
  {
   "cell_type": "markdown",
   "metadata": {},
   "source": [
    "#### 3D Plots"
   ]
  },
  {
   "cell_type": "code",
   "execution_count": null,
   "metadata": {},
   "outputs": [],
   "source": [
    "fig = plt.figure(figsize=(12,10), constrained_layout=True)\n",
    "ax = fig.add_subplot(111, projection='3d')\n",
    "for i in kmeans_lab:\n",
    "    colour = (i[0],i[1],i[2])\n",
    "    # colour = (i[0]/255, i[1]/255, i[2]/255)\n",
    "    # ax.view_init(20, 45)\n",
    "\n",
    "    ax.plot(i[0], i[1], i[2], c = colour, marker='o', markersize=5)\n",
    "    # ax.set_xbound(0,255)\n",
    "    # ax.set_ybound(0,255)\n",
    "    # ax.set_zbound(0,255)\n",
    "\n",
    "    ax.set_xlabel(\"Red\")\n",
    "    ax.set_ylabel(\"Green\")\n",
    "    ax.set_zlabel(\"Blue\")"
   ]
  },
  {
   "cell_type": "code",
   "execution_count": null,
   "metadata": {},
   "outputs": [],
   "source": [
    "def average(image_data):\n",
    "    average_color = []\n",
    "    for i in image_data:\n",
    "\n",
    "        image = Image.open(i)\n",
    "        if len(image.mode) != 3:\n",
    "            continue\n",
    "        image = ImageOps.contain(image, (200,200))\n",
    "        image = image.convert(mode='LAB')\n",
    "        # image = resize_image(image)\n",
    "        pixels = image.getdata()\n",
    "        red, green, blue = zip(*pixels)\n",
    "        result = (sum(red) / len(pixels), sum(green) / len(pixels), sum(blue) / len(pixels))\n",
    "        print(result)\n",
    "        average_color.append(result)\n",
    "        \n",
    "    return average_color\n"
   ]
  },
  {
   "cell_type": "code",
   "execution_count": null,
   "metadata": {},
   "outputs": [],
   "source": [
    "average = average(paths)\n",
    "# print(np.shape(np.asarray(average)))"
   ]
  },
  {
   "cell_type": "code",
   "execution_count": null,
   "metadata": {},
   "outputs": [],
   "source": [
    "# from mpl_toolkits.mplot3d import Axes3D\n",
    "# def plot_umap(feature_type, features, n_neighbors, min_dist):\n",
    "\n",
    "#   reducer = umap.UMAP(n_neighbors = n_neighbors, min_dist = min_dist, n_components=3)\n",
    "\n",
    "#   pipe = Pipeline([('scaling', StandardScaler()), ('umap', reducer)])\n",
    "#   embedding = pipe.fit_transform(features)\n",
    "#   test = np.asarray(embedding)\n",
    "#   print(np.shape(test))\n",
    "#   # added third embedding\n",
    "#   tx, ty, tz = embedding[:,0], embedding[:,1], embedding[:,2]\n",
    "#   print(len(tx), len(ty), len(tz))\n",
    "#   print(tx[2], ty[2], tz[2])\n",
    "#   tx = (tx-np.min(tx)) / (np.max(tx) - np.min(tx))\n",
    "#   ty = (ty-np.min(ty)) / (np.max(ty) - np.min(ty))\n",
    "#   # third dim\n",
    "#   tz = (tz-np.min(tz)) / (np.max(tz) - np.min(tz))\n",
    "\n",
    "#   width = 4000\n",
    "#   height = 3000\n",
    "#   depth = 3000\n",
    "#   max_dim = 100\n",
    "\n",
    "#   full_image = Image.new('RGBA', (width, height))\n",
    "#   for img, x, y, z in zip(paths, tx, ty, tz):\n",
    "#       tile = Image.open(img)\n",
    "#       rs = max(1, tile.width/max_dim, tile.height/max_dim)\n",
    "#       tile = tile.resize((int(tile.width/rs), int(tile.height/rs)), Image.Resampling.LANCZOS)\n",
    "#       full_image.paste(tile, (int((width-max_dim)*x), int((height-max_dim)*y)), mask=tile.convert('RGBA'))\n",
    "\n",
    "#   # plt.figure(figsize = (16,12))\n",
    "\n",
    "#   fig = plt.figure(figsize=(16, 12))\n",
    "#   ax = fig.add_subplot(111, projection='3d')\n",
    "\n",
    "#   # Plot the image tiles as scatter points in 3D space\n",
    "#   ax.scatter(tx, ty, tz, c='blue', s=1, alpha=0.8)\n",
    "\n",
    "#   # Adjust the view angle for better visualization\n",
    "#   # ax.view_init(30, 45)  # Elevate and rotate the view\n",
    "#   full_image.save(\"images/UMAP_\" + feature_type + '_nn=' + str(n_neighbors) + '_md=' + str(min_dist) + '_' + str(datetime.now().strftime(\"%Y%m%d-%H%M%S\")) + \".png\")\n",
    "#   return ax.imshow(full_image)"
   ]
  },
  {
   "cell_type": "markdown",
   "metadata": {},
   "source": [
    "#### UMAP reduced to n_components = 3 and mapped in 3D"
   ]
  },
  {
   "cell_type": "code",
   "execution_count": null,
   "metadata": {},
   "outputs": [],
   "source": [
    "def plot_umap(feature_type, features, n_neighbors, min_dist):\n",
    "\n",
    "  reducer = umap.UMAP(n_neighbors = n_neighbors, min_dist = min_dist, n_components = 3)\n",
    "\n",
    "  pipe = Pipeline([('scaling', StandardScaler()), ('umap', reducer)])\n",
    "  embedding = pipe.fit_transform(features)\n",
    "  # print(pipe.intertia_)\n",
    "\n",
    "  test = np.asarray(embedding)\n",
    "  print(np.shape(test))\n",
    "  tx, ty = embedding[:,0], embedding[:,1]\n",
    "  tx = (tx-np.min(tx)) / (np.max(tx) - np.min(tx))\n",
    "  ty = (ty-np.min(ty)) / (np.max(ty) - np.min(ty))\n",
    "\n",
    "  width = 4000\n",
    "  height = 3000\n",
    "  max_dim = 100\n",
    "\n",
    "  # full_image = Image.new('RGBA', (width, height))\n",
    "  # for img, x, y in zip(paths, tx, ty):\n",
    "\n",
    "  #   tile = Image.open(img)\n",
    "  #   rs = max(1, tile.width/max_dim, tile.height/max_dim)\n",
    "  #   tile = tile.resize((int(tile.width/rs), int(tile.height/rs)), Image.Resampling.LANCZOS)\n",
    "  #   full_image.paste(tile, (int((width-max_dim)*x), int((height-max_dim)*y)), mask=tile.convert('RGBA'))\n",
    "\n",
    "  # plt.figure(figsize = (16,12))\n",
    "  # full_image.save(\"images/UMAP_\" + feature_type + '_nn=' + str(n_neighbors) + '_md=' + str(min_dist) + '_' + str(datetime.now().strftime(\"%Y%m%d-%H%M%S\")) + \".png\")\n",
    "  # return plt.imshow(full_image)\n",
    "  fig = plt.figure(figsize=(16, 12))\n",
    "  ax = fig.add_subplot(111, projection='3d')\n",
    "\n",
    "  # Plot the image tiles as scatter points in 3D space\n",
    "  ax.scatter(embedding[:,0],embedding[:,1], embedding[:,2], c='blue', s=10, alpha=0.8)\n",
    "  # return ax.imshow(full_image)"
   ]
  },
  {
   "cell_type": "code",
   "execution_count": null,
   "metadata": {},
   "outputs": [],
   "source": [
    "n_neighbors = 170\n",
    "min_dist = 0.3\n",
    "\n",
    "plot_umap('colour palettes', colour_palettes, n_neighbors, min_dist)"
   ]
  }
 ],
 "metadata": {
  "kernelspec": {
   "display_name": "nlp",
   "language": "python",
   "name": "python3"
  },
  "language_info": {
   "codemirror_mode": {
    "name": "ipython",
    "version": 3
   },
   "file_extension": ".py",
   "mimetype": "text/x-python",
   "name": "python",
   "nbconvert_exporter": "python",
   "pygments_lexer": "ipython3",
   "version": "3.9.18"
  }
 },
 "nbformat": 4,
 "nbformat_minor": 2
}
