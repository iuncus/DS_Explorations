{
 "cells": [
  {
   "cell_type": "code",
   "execution_count": null,
   "metadata": {},
   "outputs": [],
   "source": [
    "import requests"
   ]
  },
  {
   "cell_type": "code",
   "execution_count": null,
   "metadata": {},
   "outputs": [],
   "source": [
    "query = \"\"\"\n",
    "{\n",
    "  nodeById(id: \"226737\") {\n",
    "    ... on NodeOeuvre {\n",
    "      title\n",
    "      absolutePath\n",
    "      fieldUrlAlias\n",
    "      fieldOeuvreThemeRepresente     {\n",
    "        entity {\n",
    "          name\n",
    "        }\n",
    "      }\n",
    "      fieldLieuxConcernes {\n",
    "        entity {\n",
    "          name\n",
    "        }\n",
    "      }\n",
    "      fieldDonateurs {\n",
    "        entity {\n",
    "          name\n",
    "        }\n",
    "      }\n",
    "    }\n",
    "  }\n",
    "}\n",
    "\"\"\"\n",
    "# \"\"\"\n",
    "# {\n",
    "#   search(page: 1, limit: 10, facets: [{field: \"IMAGE\", values: [\"true\"]}]) {\n",
    "#     aggregations {\n",
    "#       facets {\n",
    "#         name\n",
    "#         entries {\n",
    "#           name\n",
    "#           count\n",
    "#         }\n",
    "#       }\n",
    "#     }\n",
    "#     records {\n",
    "#       id\n",
    "#       title\n",
    "#       image {\n",
    "#         url\n",
    "#       }\n",
    "#     }\n",
    "#   }\n",
    "# }\n",
    "# \"\"\""
   ]
  },
  {
   "cell_type": "code",
   "execution_count": null,
   "metadata": {},
   "outputs": [],
   "source": [
    "url = \"http://apicollections.parismusees.paris.fr/graphql\"\n",
    "# i cant even tell if its checking the token first or the validity of the query, would make sense to be token first\n",
    "# but I'm still not sure if the correct name is \"Authorization\" or \"auth-token\", sometimes it gives a 403, sometimes \n",
    "# it complains about the query, its all very confusing.\n",
    "# getting a new token didn't seem to help either welp\n",
    "\n",
    "# headers= {\"Content-Type\" : \"application/json\", \"auth-token\" : \"41d4f6ed-dcf5-46bb-9ac3-2c67d9809764\"}\n",
    "headers= {\"Content-Type\" : \"application/json\", \"Authorization\" : \"41d4f6ed-dcf5-46bb-9ac3-2c67d9809764\"}\n",
    "# params = {\"auth-token\" : \"6d47d1ab-bdf2-405a-8a8e-b331721ae4ba\"}\n",
    "payload = {\"query\": query}\n",
    "\n",
    "# use requests.post() to make a GraphQL request, can't just use requests.get() this time\n",
    "response = requests.post(url, headers=headers, json=payload)\n",
    "# response.status_code\n",
    "\n",
    " \t\n",
    "# print out content if response is not being blocked, or print the error content anyway\n",
    "if response.status_code == 200:\n",
    "    data = response.json()\n",
    "    \n",
    "    image_records = data['data']['search']['records']\n",
    "    \n",
    "    for record in image_records:\n",
    "        image_url = record['image']['url']\n",
    "        image_title = record['title']\n",
    "        print(f\"Title: {image_title}\")\n",
    "        print(f\"Image URL: {image_url}\")\n",
    "        print()\n",
    "else:\n",
    "    print(f\"Error: {response.status_code} - {response.text}\")"
   ]
  },
  {
   "cell_type": "code",
   "execution_count": null,
   "metadata": {},
   "outputs": [],
   "source": []
  }
 ],
 "metadata": {
  "kernelspec": {
   "display_name": "nlp",
   "language": "python",
   "name": "python3"
  },
  "language_info": {
   "codemirror_mode": {
    "name": "ipython",
    "version": 3
   },
   "file_extension": ".py",
   "mimetype": "text/x-python",
   "name": "python",
   "nbconvert_exporter": "python",
   "pygments_lexer": "ipython3",
   "version": "3.11.5"
  }
 },
 "nbformat": 4,
 "nbformat_minor": 2
}
