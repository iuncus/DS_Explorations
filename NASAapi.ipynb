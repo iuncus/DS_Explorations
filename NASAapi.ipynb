{
 "cells": [
  {
   "cell_type": "code",
   "execution_count": 1,
   "metadata": {},
   "outputs": [],
   "source": [
    "import requests\n",
    "from PIL import Image\n",
    "import pandas as pd\n",
    "from io import BytesIO"
   ]
  },
  {
   "cell_type": "code",
   "execution_count": 10,
   "metadata": {},
   "outputs": [
    {
     "name": "stdout",
     "output_type": "stream",
     "text": [
      "200\n"
     ]
    }
   ],
   "source": [
    "url_base = \"https://api.nasa.gov/planetary/apod\"\n",
    "\n",
    "api_key = \"?api_key=JYr2sMz90x4jdRWfQoaSbLSEXQyCH7mQqQRRD4ES\"\n",
    "# headers = {'User-Agent': 'Mozilla/5.0 (Windows NT 10.0; Win64; x64) AppleWebKit/537.36 (KHTML, like Gecko) Chrome/111.0.0.0 Safari/537.36'}\n",
    "\n",
    "url = url_base + api_key\n",
    "response = requests.get(url)\n",
    "print(response.status_code)\n",
    "# print(response.headers)\n",
    "# print(response.text)\n",
    "# img = Image.open(response.content)\n",
    "# img.show()\n",
    "response_json = response.json()\n",
    "# print(response_json)\n"
   ]
  },
  {
   "cell_type": "code",
   "execution_count": 15,
   "metadata": {},
   "outputs": [
    {
     "data": {
      "text/html": [
       "<div>\n",
       "<style scoped>\n",
       "    .dataframe tbody tr th:only-of-type {\n",
       "        vertical-align: middle;\n",
       "    }\n",
       "\n",
       "    .dataframe tbody tr th {\n",
       "        vertical-align: top;\n",
       "    }\n",
       "\n",
       "    .dataframe thead th {\n",
       "        text-align: right;\n",
       "    }\n",
       "</style>\n",
       "<table border=\"1\" class=\"dataframe\">\n",
       "  <thead>\n",
       "    <tr style=\"text-align: right;\">\n",
       "      <th></th>\n",
       "      <th>date</th>\n",
       "      <th>explanation</th>\n",
       "      <th>hdurl</th>\n",
       "      <th>media_type</th>\n",
       "      <th>service_version</th>\n",
       "      <th>title</th>\n",
       "      <th>url</th>\n",
       "    </tr>\n",
       "  </thead>\n",
       "  <tbody>\n",
       "    <tr>\n",
       "      <th>0</th>\n",
       "      <td>2024-03-06</td>\n",
       "      <td>What kind of celestial object is this? A relat...</td>\n",
       "      <td>https://apod.nasa.gov/apod/image/2403/M102_Hub...</td>\n",
       "      <td>image</td>\n",
       "      <td>v1</td>\n",
       "      <td>M102: Edge-on Disk Galaxy</td>\n",
       "      <td>https://apod.nasa.gov/apod/image/2403/M102_Hub...</td>\n",
       "    </tr>\n",
       "  </tbody>\n",
       "</table>\n",
       "</div>"
      ],
      "text/plain": [
       "         date                                        explanation  \\\n",
       "0  2024-03-06  What kind of celestial object is this? A relat...   \n",
       "\n",
       "                                               hdurl media_type  \\\n",
       "0  https://apod.nasa.gov/apod/image/2403/M102_Hub...      image   \n",
       "\n",
       "  service_version                      title  \\\n",
       "0              v1  M102: Edge-on Disk Galaxy   \n",
       "\n",
       "                                                 url  \n",
       "0  https://apod.nasa.gov/apod/image/2403/M102_Hub...  "
      ]
     },
     "execution_count": 15,
     "metadata": {},
     "output_type": "execute_result"
    }
   ],
   "source": [
    "df = pd.json_normalize(response_json)\n",
    "df\n",
    "# print(response_json[\"hdurl\"])"
   ]
  },
  {
   "cell_type": "code",
   "execution_count": 12,
   "metadata": {},
   "outputs": [],
   "source": [
    "img_response = requests.get(response_json[\"url\"])\n",
    "img = Image.open(BytesIO(img_response.content))\n",
    "img.show()"
   ]
  }
 ],
 "metadata": {
  "kernelspec": {
   "display_name": "nlp",
   "language": "python",
   "name": "python3"
  },
  "language_info": {
   "codemirror_mode": {
    "name": "ipython",
    "version": 3
   },
   "file_extension": ".py",
   "mimetype": "text/x-python",
   "name": "python",
   "nbconvert_exporter": "python",
   "pygments_lexer": "ipython3",
   "version": "3.9.18"
  }
 },
 "nbformat": 4,
 "nbformat_minor": 2
}
