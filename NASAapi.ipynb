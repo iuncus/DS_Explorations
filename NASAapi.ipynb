{
 "cells": [
  {
   "cell_type": "code",
   "execution_count": null,
   "metadata": {},
   "outputs": [],
   "source": [
    "import requests\n",
    "from PIL import Image\n",
    "import pandas as pd\n",
    "from io import BytesIO"
   ]
  },
  {
   "cell_type": "code",
   "execution_count": null,
   "metadata": {},
   "outputs": [],
   "source": [
    "url_base = \"https://api.nasa.gov/planetary/apod\"\n",
    "\n",
    "api_key = \"?api_key=JYr2sMz90x4jdRWfQoaSbLSEXQyCH7mQqQRRD4ES\"\n",
    "# headers = {'User-Agent': 'Mozilla/5.0 (Windows NT 10.0; Win64; x64) AppleWebKit/537.36 (KHTML, like Gecko) Chrome/111.0.0.0 Safari/537.36'}\n",
    "\n",
    "url = url_base + api_key\n",
    "response = requests.get(url)\n",
    "print(response.status_code)\n",
    "# print(response.headers)\n",
    "# print(response.text)\n",
    "# img = Image.open(response.content)\n",
    "# img.show()\n",
    "response_json = response.json()\n",
    "# print(response_json)\n"
   ]
  },
  {
   "cell_type": "code",
   "execution_count": null,
   "metadata": {},
   "outputs": [],
   "source": [
    "df = pd.json_normalize(response_json)\n",
    "df\n",
    "# print(response_json[\"hdurl\"])"
   ]
  },
  {
   "cell_type": "code",
   "execution_count": null,
   "metadata": {},
   "outputs": [],
   "source": [
    "img_response = requests.get(response_json[\"url\"])\n",
    "img = Image.open(BytesIO(img_response.content))\n",
    "img.show()"
   ]
  }
 ],
 "metadata": {
  "kernelspec": {
   "display_name": "nlp",
   "language": "python",
   "name": "python3"
  },
  "language_info": {
   "codemirror_mode": {
    "name": "ipython",
    "version": 3
   },
   "file_extension": ".py",
   "mimetype": "text/x-python",
   "name": "python",
   "nbconvert_exporter": "python",
   "pygments_lexer": "ipython3",
   "version": "3.9.18"
  }
 },
 "nbformat": 4,
 "nbformat_minor": 2
}
